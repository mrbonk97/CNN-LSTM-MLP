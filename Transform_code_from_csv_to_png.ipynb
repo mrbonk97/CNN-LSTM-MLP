{
 "cells": [
  {
   "cell_type": "code",
   "execution_count": 1,
   "id": "dffb2e24",
   "metadata": {},
   "outputs": [],
   "source": [
    "import pandas as pd\n",
    "import matplotlib.pyplot as plt\n",
    "\n",
    "plt.rcParams.update({'figure.max_open_warning': 0})\n"
   ]
  },
  {
   "cell_type": "code",
   "execution_count": null,
   "id": "3ab17236",
   "metadata": {},
   "outputs": [],
   "source": [
    "train = pd.read_csv('train.csv',header=None)\n",
    "for m in range(8):\n",
    "    df = train.iloc[480*m:480*(m+1),0:500].astype('float32')\n",
    "    for i in range(480):\n",
    "        plt.figure(figsize=(1,1))\n",
    "        plt.plot(df.iloc[i])\n",
    "        plt.axis(\"off\")\n",
    "        plt.savefig('train/class_' + str(m) + '/' + str(i).zfill(3) + '.png')"
   ]
  },
  {
   "cell_type": "code",
   "execution_count": null,
   "id": "61a26839",
   "metadata": {},
   "outputs": [],
   "source": [
    "test = pd.read_csv('test_no.csv',header=None)\n",
    "for i in range(len(test)):\n",
    "    plt.figure(figsize=(1,1))\n",
    "    plt.plot(test.iloc[i,0:500])\n",
    "    plt.axis('off')\n",
    "    plt.savefig('test/class_' + str(test.iloc[i,500]) + '/' + str(i).zfill(3) + '.png')"
   ]
  }
 ],
 "metadata": {
  "kernelspec": {
   "display_name": "Python 3.9.7 ('base')",
   "language": "python",
   "name": "python3"
  },
  "language_info": {
   "codemirror_mode": {
    "name": "ipython",
    "version": 3
   },
   "file_extension": ".py",
   "mimetype": "text/x-python",
   "name": "python",
   "nbconvert_exporter": "python",
   "pygments_lexer": "ipython3",
   "version": "3.9.7"
  },
  "vscode": {
   "interpreter": {
    "hash": "2f9f09fba2f4bb03127ebbe36e55ce30576462f1b11b3968c39c509c1c23e795"
   }
  }
 },
 "nbformat": 4,
 "nbformat_minor": 5
}
